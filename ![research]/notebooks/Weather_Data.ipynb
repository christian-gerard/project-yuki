{
 "cells": [
  {
   "cell_type": "code",
   "execution_count": 1,
   "metadata": {},
   "outputs": [
    {
     "data": {
      "text/plain": [
       "True"
      ]
     },
     "execution_count": 1,
     "metadata": {},
     "output_type": "execute_result"
    }
   ],
   "source": [
    "import pandas as pd\n",
    "import requests\n",
    "import json\n",
    "from datetime import datetime\n",
    "import os\n",
    "from dotenv import load_dotenv\n",
    "\n",
    "load_dotenv()"
   ]
  },
  {
   "cell_type": "code",
   "execution_count": 2,
   "metadata": {},
   "outputs": [
    {
     "name": "stdout",
     "output_type": "stream",
     "text": [
      "da8e020d809545b4a01684b99428004d\n"
     ]
    }
   ],
   "source": [
    "token = os.environ.get('WEATHER_TKN',  None)\n",
    "headers = {\n",
    "    \"stid\" : \"fps\",\n",
    "    \"recent\" : \"60\",\n",
    "    \"token\" : token,\n",
    "    \"units\" : \"english\"\n",
    "}\n",
    "print(token)"
   ]
  },
  {
   "cell_type": "code",
   "execution_count": 7,
   "metadata": {},
   "outputs": [
    {
     "name": "stdout",
     "output_type": "stream",
     "text": [
      "{'status': 403, 'message': 'Unauthorized. Review your account access settings in the customer console.'}\n"
     ]
    }
   ],
   "source": [
    "weather_url = \"https://api.synopticdata.com/v2/stations/timeseries\"\n",
    "r = requests.get(weather_url, params=headers)\n",
    "print(r.json())"
   ]
  },
  {
   "cell_type": "code",
   "execution_count": 4,
   "metadata": {},
   "outputs": [
    {
     "data": {
      "text/plain": [
       "403"
      ]
     },
     "execution_count": 4,
     "metadata": {},
     "output_type": "execute_result"
    }
   ],
   "source": [
    "return_dict = r.json()\n",
    "return_dict['status']"
   ]
  },
  {
   "cell_type": "code",
   "execution_count": 5,
   "metadata": {},
   "outputs": [
    {
     "ename": "KeyError",
     "evalue": "'STATION'",
     "output_type": "error",
     "traceback": [
      "\u001b[0;31m---------------------------------------------------------------------------\u001b[0m",
      "\u001b[0;31mKeyError\u001b[0m                                  Traceback (most recent call last)",
      "\u001b[1;32m/Users/christiangerard/Development/projects/project-yuki/![research]/notebooks/Weather_Data.ipynb Cell 5\u001b[0m line \u001b[0;36m1\n\u001b[0;32m----> <a href='vscode-notebook-cell:/Users/christiangerard/Development/projects/project-yuki/%21%5Bresearch%5D/notebooks/Weather_Data.ipynb#X10sZmlsZQ%3D%3D?line=0'>1</a>\u001b[0m return_dict[\u001b[39m'\u001b[39;49m\u001b[39mSTATION\u001b[39;49m\u001b[39m'\u001b[39;49m][\u001b[39m0\u001b[39m][\u001b[39m'\u001b[39m\u001b[39mOBSERVATIONS\u001b[39m\u001b[39m'\u001b[39m]\n",
      "\u001b[0;31mKeyError\u001b[0m: 'STATION'"
     ]
    }
   ],
   "source": [
    "return_dict['STATION'][0]['OBSERVATIONS']"
   ]
  },
  {
   "cell_type": "code",
   "execution_count": null,
   "metadata": {},
   "outputs": [
    {
     "ename": "KeyError",
     "evalue": "'STATION'",
     "output_type": "error",
     "traceback": [
      "\u001b[0;31m---------------------------------------------------------------------------\u001b[0m",
      "\u001b[0;31mKeyError\u001b[0m                                  Traceback (most recent call last)",
      "\u001b[1;32m/Users/christiangerard/Development/projects/project-yuki/![research]/notebooks/Weather_Data.ipynb Cell 9\u001b[0m line \u001b[0;36m1\n\u001b[0;32m----> <a href='vscode-notebook-cell:/Users/christiangerard/Development/projects/project-yuki/%21%5Bresearch%5D/notebooks/Weather_Data.ipynb#X11sZmlsZQ%3D%3D?line=0'>1</a>\u001b[0m weather_db \u001b[39m=\u001b[39m pd\u001b[39m.\u001b[39mDataFrame(return_dict[\u001b[39m'\u001b[39;49m\u001b[39mSTATION\u001b[39;49m\u001b[39m'\u001b[39;49m][\u001b[39m0\u001b[39m][\u001b[39m'\u001b[39m\u001b[39mOBSERVATIONS\u001b[39m\u001b[39m'\u001b[39m])\n",
      "\u001b[0;31mKeyError\u001b[0m: 'STATION'"
     ]
    }
   ],
   "source": [
    "weather_db = pd.DataFrame(return_dict['STATION'][0]['OBSERVATIONS'])\n"
   ]
  },
  {
   "cell_type": "code",
   "execution_count": null,
   "metadata": {},
   "outputs": [
    {
     "ename": "NameError",
     "evalue": "name 'weather_db' is not defined",
     "output_type": "error",
     "traceback": [
      "\u001b[0;31m---------------------------------------------------------------------------\u001b[0m",
      "\u001b[0;31mNameError\u001b[0m                                 Traceback (most recent call last)",
      "\u001b[1;32m/Users/christiangerard/Development/projects/project-yuki/![research]/notebooks/Weather_Data.ipynb Cell 7\u001b[0m line \u001b[0;36m1\n\u001b[0;32m----> <a href='vscode-notebook-cell:/Users/christiangerard/Development/projects/project-yuki/%21%5Bresearch%5D/notebooks/Weather_Data.ipynb#X12sZmlsZQ%3D%3D?line=0'>1</a>\u001b[0m weather_db\u001b[39m.\u001b[39mhead()\n",
      "\u001b[0;31mNameError\u001b[0m: name 'weather_db' is not defined"
     ]
    }
   ],
   "source": [
    "weather_db.head()"
   ]
  },
  {
   "cell_type": "code",
   "execution_count": null,
   "metadata": {},
   "outputs": [
    {
     "ename": "NameError",
     "evalue": "name 'weather_db' is not defined",
     "output_type": "error",
     "traceback": [
      "\u001b[0;31m---------------------------------------------------------------------------\u001b[0m",
      "\u001b[0;31mNameError\u001b[0m                                 Traceback (most recent call last)",
      "\u001b[1;32m/Users/christiangerard/Development/projects/project-yuki/![research]/notebooks/Weather_Data.ipynb Cell 13\u001b[0m line \u001b[0;36m1\n\u001b[0;32m----> <a href='vscode-notebook-cell:/Users/christiangerard/Development/projects/project-yuki/%21%5Bresearch%5D/notebooks/Weather_Data.ipynb#X15sZmlsZQ%3D%3D?line=0'>1</a>\u001b[0m weather_db\u001b[39m.\u001b[39mdtypes\n",
      "\u001b[0;31mNameError\u001b[0m: name 'weather_db' is not defined"
     ]
    }
   ],
   "source": [
    "weather_db.dtypes"
   ]
  }
 ],
 "metadata": {
  "kernelspec": {
   "display_name": "snow",
   "language": "python",
   "name": "python3"
  },
  "language_info": {
   "codemirror_mode": {
    "name": "ipython",
    "version": 3
   },
   "file_extension": ".py",
   "mimetype": "text/x-python",
   "name": "python",
   "nbconvert_exporter": "python",
   "pygments_lexer": "ipython3",
   "version": "3.12.2"
  }
 },
 "nbformat": 4,
 "nbformat_minor": 2
}
